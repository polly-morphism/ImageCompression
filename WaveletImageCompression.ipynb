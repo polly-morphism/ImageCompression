{
 "cells": [
  {
   "cell_type": "markdown",
   "metadata": {},
   "source": [
    "A digital image is composed of a finite number of elements, each of which has a particular location and value. An image is defined  as  a  two-dimensional  function  i.e,  a  matrix  A  (x,y) where  x  and  y  are  spatial  coordinates. The  amplitude  of  A  at any pair of coordinates (x,y) is called the intensity or gray level of  the  image  at  that  point.  The  finite  elements  of  image  are referred  to  as picture  elements,  image  elements  or  pixels.  An image  can  be  converted  into  digital  form  by  digitizing  its coordinates  as  well as  amplitude.  The  digitization  of  the coordinate  values  is  called  sampling  whereas  digitizing  the amplitude values is called quantization.\n",
    "\n",
    "The steps involved in compression are: \n",
    "1. Digitizing  of  the  original  image  into  the  array  of numbers, p. \n",
    "2. Decomposing the signal ‘p’ into sequence of wavelet coefficients, w. \n",
    "3. Applying the threshold to wavelet coefficients w so as to convert it into a new sequence of coefficients, w. \n",
    "4. Applying  quantization  to  sequence w in  order  to convert it into new sequence, s. \n",
    "5. Compression of sequence using entropy encoding. \n",
    "6. Wavelet reconstruction using the original approximation   coefficients   of   level N and   the modified detail coefficients of level from 1 to N. \n",
    "\n",
    "In wavelet transform, a function S(x) is represented as a superposition of a set of such wavelets or basis functions. These basis  functions  are  obtained  from  a  single  prototype  wavelet called  the  mother  wavelet  ψ(x)  by  dilations(scaling)  and translations(shifts). \n",
    "\n",
    "For each n,k ∈ Z, we define ψn,k(x) as  ψn,k(x) = 2n/2ψ(2nx−k) \n",
    "ψ(x)  is  a  wavelet  and  the  collection  {ψn,k(x)}  n,k∈Z  is  a wavelet orthonormal basis on R and  ψ must satisfy ∫ ψ(x)dx =0.  \n",
    "\n",
    "Basic types of wavelets are \n",
    "1. Haar wavelet transform. \n",
    "2. Daubechies wavelet transform.  \n",
    "3. Symlet wavelet transform.  \n",
    "4. Biorthogonal wavelet transform.  \n",
    "5. Coiflets wavelet transform. \n",
    "\n",
    "The  Daubechies  wavelets  are  orthogonal and so are Coiflets. Symlets have the property of being close to symmetric. The  biorthogonal  wavelets are  not orthogonal  but possess the symmetric property. \n",
    "\n",
    "EZW  encoder  is  normally  employed  in  conjunction  with  the wavelet  transform.  After  the  image  is  passed  through  filter bank, it encodes the decomposed image \n",
    "WDR is used to generate an embedded bit stream. It consists of 3 basic steps: Discrete Wavelet Transform, Differential Coding and  Binary  coding.\n",
    "\n",
    "\n",
    "References:\n",
    "Wavelet Based Image Compression Techniques: Comparative Analysis and Performance Evaluation. \n"
   ]
  },
  {
   "cell_type": "markdown",
   "metadata": {},
   "source": [
    "The Haar transform is the simplest orthogonal wavelet transform. It is computed by iterating difference and averaging between odd and even samples of the signal. Since we are in 2-D, we need to compute the average and difference in the horizontal and then in the vertical direction. \n",
    "\n",
    "https://journals.sagepub.com/doi/full/10.1177/0020294019877508\n"
   ]
  },
  {
   "cell_type": "code",
   "execution_count": 1,
   "metadata": {},
   "outputs": [
    {
     "name": "stdout",
     "output_type": "stream",
     "text": [
      "[64.  2.  3. 61. 60.  6.  7. 57.]\n",
      "[ 9. 55. 54. 12. 13. 51. 50. 16.]\n",
      "[17. 47. 46. 20. 21. 43. 42. 24.]\n",
      "[40. 26. 27. 37. 36. 30. 31. 33.]\n",
      "[32. 34. 35. 29. 28. 38. 39. 25.]\n",
      "[41. 23. 22. 44. 45. 19. 18. 48.]\n",
      "[49. 15. 14. 52. 53. 11. 10. 56.]\n",
      "[ 8. 58. 59.  5.  4. 62. 63.  1.]\n"
     ]
    },
    {
     "data": {
      "image/png": "[encoded data removed]",
      "text/plain": [
       "<Figure size 432x288 with 1 Axes>"
      ]
     },
     "metadata": {},
     "output_type": "display_data"
    },
    {
     "data": {
      "image/png": "[encoded data removed]",
      "text/plain": [
       "<Figure size 432x288 with 1 Axes>"
      ]
     },
     "metadata": {},
     "output_type": "display_data"
    }
   ],
   "source": [
    "from numpy import mean, cov, cumsum, dot, linalg, size, flipud, real, transpose, array, log2, shape\n",
    "import cv2 as cv\n",
    "from functools import reduce\n",
    "from matplotlib import pyplot as plt\n",
    "\n",
    "test = array([array([64, 2, 3, 61, 60, 6, 7, 57]), array([9, 55, 54, 12, 13, 51, 50, 16]), \n",
    "             array([17, 47, 46, 20, 21, 43, 42, 24]), array([40, 26, 27, 37, 36, 30, 31, 33]),\n",
    "             array([32, 34, 35, 29, 28, 38, 39, 25]), array([41, 23, 22, 44, 45, 19, 18, 48]),\n",
    "             array([49, 15, 14, 52, 53, 11, 10, 56]), array([8, 58, 59, 5, 4, 62, 63, 1])])\n",
    "\n",
    "# img = cv.imread('182910.jpg') \n",
    "    \n",
    "def simple_compression(image_matrix):\n",
    "    compressed_matrix = array(list(map(lambda x:list(map(lambda i:sum(x[i:i + 2])/2, range(0, 256, 2))), array(list(map(lambda x:list(map(lambda i:sum(x[i:i + 2])/2, range(0, 256, 2))), mean(image_matrix, 2)))).transpose()))).transpose()\n",
    "    return compressed_matrix\n",
    "\n",
    "#####\n",
    "# НЕ СМОТРИТЕ НА МОЙ ГОВНОКОД ПОЖАЛУЙСТА, ПОСМОТРИТЕ ДРУГИЕ НОУТБУКИ\n",
    "#####\n",
    "\n",
    "def wavelet_transform(image_matrix_row):\n",
    "    averages = [list(image_matrix_row)]\n",
    "    differences = []\n",
    "    for i in range(int(log2(shape(image_matrix_row)))):\n",
    "        new_avg = []\n",
    "        new_dif = []\n",
    "        for k in range(0, len(averages[-1]), 2):\n",
    "            avg = sum(averages[-1][k:k + 2])/2\n",
    "            if i == int(log2(shape(image_matrix_row))) - 2:\n",
    "                value = avg\n",
    "            new_avg.append(avg)\n",
    "            new_dif.append(averages[-1][k:k + 2][0]-avg)\n",
    "        differences.insert(0, new_dif)\n",
    "        averages.append(new_avg)\n",
    "    return(reduce(lambda z, y :z + y, [[value,], reduce(lambda z, y :z + y, differences)]))\n",
    "\n",
    "def reverse_wavelet_transform(wavelet_transform_matrix_row):\n",
    "    retransformed = list(wavelet_transform_matrix_row)\n",
    "    for i in range(1, int(log2(shape(wavelet_transform_matrix_row)[0]))+1):\n",
    "        if i == 1:\n",
    "            retransformed.insert(0, (retransformed[i-1] + retransformed[i]))\n",
    "            retransformed = retransformed[:2]\n",
    "        else:\n",
    "            length = len(retransformed)\n",
    "            for k in range(length):\n",
    "                retransformed.append(retransformed[k] + wavelet_transform_matrix_row[length:length*2][k])\n",
    "                retransformed.append(retransformed[k] - wavelet_transform_matrix_row[length:length*2][k])\n",
    "            retransformed = retransformed[length:]\n",
    "    return(retransformed)\n",
    "        \n",
    "wavelet1d = list(map(wavelet_transform, list(test)))\n",
    "wavelet2d = list(array(list(map(wavelet_transform, array(wavelet1d).transpose()))).transpose())\n",
    "    \n",
    "wavelet_reverse_1d = list(map(reverse_wavelet_transform, list(wavelet2d)))\n",
    "wavelet_reverse_2d = list(array(list(map(reverse_wavelet_transform, array(wavelet_reverse_1d).transpose()))).transpose())\n",
    "\n",
    "for i in wavelet_reverse_2d:\n",
    "    print(i)\n",
    "    \n",
    "    \n",
    "# reverse_wavelet_transform([32.5, 0, 0.5, 0.5, 31, -29, 27, -25])\n",
    "    \n",
    "plt.style.use('grayscale')\n",
    "# img = simple_compression(img)   \n",
    "plt.imshow(test)\n",
    "plt.show() \n",
    "plt.imshow(wavelet_reverse_2d)\n",
    "plt.show() "
   ]
  },
  {
   "cell_type": "code",
   "execution_count": null,
   "metadata": {},
   "outputs": [],
   "source": []
  }
 ],
 "metadata": {
  "kernelspec": {
   "display_name": "Python 3",
   "language": "python",
   "name": "python3"
  },
  "language_info": {
   "codemirror_mode": {
    "name": "ipython",
    "version": 3
   },
   "file_extension": ".py",
   "mimetype": "text/x-python",
   "name": "python",
   "nbconvert_exporter": "python",
   "pygments_lexer": "ipython3",
   "version": "3.7.5"
  }
 },
 "nbformat": 4,
 "nbformat_minor": 4
}
